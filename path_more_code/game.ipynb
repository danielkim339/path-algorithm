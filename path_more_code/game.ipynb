{
 "cells": [
  {
   "cell_type": "code",
   "execution_count": 3,
   "metadata": {},
   "outputs": [
    {
     "name": "stdout",
     "output_type": "stream",
     "text": [
      "3.6.10\n"
     ]
    },
    {
     "ename": "ModuleNotFoundError",
     "evalue": "No module named 'game_graphs'",
     "output_type": "error",
     "traceback": [
      "\u001b[0;31m---------------------------------------------------------------------------\u001b[0m",
      "\u001b[0;31mModuleNotFoundError\u001b[0m                       Traceback (most recent call last)",
      "\u001b[0;32m<ipython-input-3-26e1375a9119>\u001b[0m in \u001b[0;36m<module>\u001b[0;34m\u001b[0m\n\u001b[1;32m      5\u001b[0m \u001b[0;32mimport\u001b[0m \u001b[0mpygame\u001b[0m\u001b[0;34m\u001b[0m\u001b[0;34m\u001b[0m\u001b[0m\n\u001b[1;32m      6\u001b[0m \u001b[0;34m\u001b[0m\u001b[0m\n\u001b[0;32m----> 7\u001b[0;31m \u001b[0;32mimport\u001b[0m \u001b[0mgame_graphs\u001b[0m\u001b[0;34m\u001b[0m\u001b[0;34m\u001b[0m\u001b[0m\n\u001b[0m\u001b[1;32m      8\u001b[0m \u001b[0;32mimport\u001b[0m \u001b[0mPathSearch\u001b[0m\u001b[0;34m\u001b[0m\u001b[0;34m\u001b[0m\u001b[0m\n\u001b[1;32m      9\u001b[0m \u001b[0;32mimport\u001b[0m \u001b[0mgame_settings\u001b[0m\u001b[0;34m\u001b[0m\u001b[0;34m\u001b[0m\u001b[0m\n",
      "\u001b[0;31mModuleNotFoundError\u001b[0m: No module named 'game_graphs'"
     ]
    }
   ],
   "source": [
    "import pygame\n",
    "\n",
    "import game_graphs as ggraph\n",
    "from algorithm import PathSearch\n",
    "from game_settings import Settings\n",
    "\n",
    "\n",
    "def quit_game():\n",
    "    global running\n",
    "    running = False\n",
    "    pygame.quit()\n",
    "    quit()\n",
    "    \n",
    "# Formats text display    \n",
    "def text_objects(text, font):\n",
    "    textSurface = font.render(text, True, WHITE)\n",
    "    return textSurface, textSurface.get_rect()   \n",
    "\n",
    "\n",
    "# Creates button controls\n",
    "def button(msg, x, y, w, h, ic, ac, action=None):\n",
    "    mouse = pygame.mouse.get_pos()\n",
    "    click = pygame.mouse.get_pressed()  \n",
    "    if x+w > mouse[0] > x and y+h > mouse[1] > y:\n",
    "        pygame.draw.rect(gameDisplay, ac, (x,y,w,h))\n",
    "        if click[0] == 1 and action != None:\n",
    "            return action()\n",
    "    else:\n",
    "        pygame.draw.rect(gameDisplay, ic, (x,y,w,h))\n",
    "    smallText = pygame.font.SysFont('comicsansms', 20)\n",
    "    textSurf, textRect = text_objects(msg, smallText)\n",
    "    textRect.center = ( (x+(w/2)), (y+(h/2)) )\n",
    "    gameDisplay.blit(textSurf, textRect)\n",
    "\n",
    "\n",
    "def clicked_node():\n",
    "    pos = pygame.mouse.get_pos()\n",
    "    row = pos[1] // (node_height + node_margin)\n",
    "    col = pos[0] // (node_width + node_margin)\n",
    "    return row, col\n",
    "\n",
    "\n",
    "\n",
    "\"\"\" Main game functions. \"\"\"\n",
    "\n",
    "def menu():\n",
    "    global running \n",
    "    while running:\n",
    "        for event in pygame.event.get():\n",
    "            if event.type == pygame.QUIT or (event.type == pygame.KEYDOWN and event.key == pygame.K_ESCAPE):\n",
    "                running = False\n",
    "                return\n",
    "        \n",
    "        gameDisplay.fill(BLACK)\n",
    "        textSurf1, textRect1 = text_objects('Pathfinder Visualization', largeText)\n",
    "        textSurf2, textRect2 = text_objects('Directions:', smallText)\n",
    "        textSurf3, textRect3 = text_objects('1. \"Click\" to add / remove walls.', smallText)\n",
    "        textSurf4, textRect4 = text_objects('2. Press \"enter\" to start search.', smallText)\n",
    "        textRect1.center = ((display_width/2), (display_height/5))\n",
    "        textRect2.center = ((display_width/2), (display_height/4)) \n",
    "        textRect3.center = ((display_width/2), (display_height/3)) \n",
    "        textRect4.center = ((display_width/2), (display_height/2)) \n",
    "        \n",
    "        gameDisplay.blits(blit_sequence=((textSurf1,textRect1), (textSurf2,textRect2), (textSurf3,textRect3), (textSurf4,textRect4)))\n",
    "        \n",
    "        button(\"Start\", 40,200,80,25, GREEN, BRIGHT_GREEN, game_loop)\n",
    "        button(\"Quit\", 160,200,80,25, RED, BRIGHT_RED, quit_game)\n",
    "        pygame.display.update()\n",
    "        clock.tick(15)\n",
    "    \n",
    "        \n",
    "def game_loop():\n",
    "    global running\n",
    "    while running:\n",
    "        start_search = False\n",
    "        mouse_click = False\n",
    "        old_r, old_c = 0, 0\n",
    "        update_grid()\n",
    "        \n",
    "        for event in pygame.event.get():\n",
    "            if event.type == pygame.QUIT or (event.type == pygame.KEYDOWN and event.key == pygame.K_ESCAPE):          \n",
    "                running = False\n",
    "                break\n",
    "            if event.type == pygame.KEYDOWN:              \n",
    "                if event.key == pygame.K_RETURN:  \n",
    "                    g.construct_graph()\n",
    "                    start_search = True\n",
    "                    break\n",
    "            if event.type == pygame.MOUSEBUTTONDOWN:\n",
    "                mouse_click = True\n",
    "            if event.type == pygame.MOUSEBUTTONUP:\n",
    "                mouse_click = False\n",
    "                \n",
    "            while (mouse_click and (event.type == pygame.MOUSEBUTTONDOWN or event.type == pygame.MOUSEMOTION)):\n",
    "                pygame.event.pump()\n",
    "                button = pygame.mouse.get_pressed()\n",
    "                if button[0] == False:\n",
    "                    break\n",
    "                    \n",
    "                row, col = clicked_node()\n",
    "                \n",
    "                if row != old_r or col != old_c:\n",
    "                    if g.graph[row][col] == 'w':\n",
    "                        g.remove_wall((row,col))\n",
    "                    elif (g.graph[row][col] != 's') and (g.graph[row][col] != 'g') and (g.graph[row][col] != 'b'):    # Prevent wall replacing start/goal \n",
    "                        g.add_wall((row,col))\n",
    "                    old_r, old_c = row, col\n",
    "                \n",
    "                g.construct_graph()\n",
    "                update_grid()\n",
    "\n",
    "        if not running:\n",
    "            return\n",
    "        \n",
    "        elif (start_search == True and running == True):             #################\n",
    "            parents, cost_so_far = dijkstras(start, goal)   \n",
    "            if parents == None:\n",
    "                game_loop()\n",
    "                \n",
    "            path_dij = construct_path(start, goal, parents_dij)\n",
    "            g.construct_graph(path=path_dij)\n",
    "            pygame.display.set_caption(\"Search Results\")\n",
    "            g.update_grid()               ##################################\n",
    "            \n",
    "\n",
    "# largeText = pygame.font.SysFont('comicsansms', 30)\n",
    "# smallText = pygame.font.SysFont('comicsansms', 15)\n",
    "\n",
    "g_set = Settings()\n",
    "\n",
    "g = ggraph.SquareGraph(g_set.grid_width, g_set.grid_height)\n",
    "g.construct_graph(start=g_set.start, goal=g_set.goal)      \n",
    "\n",
    "pygame.init()\n",
    "gameDisplay = pygame.display.set_mode((g_set.display_width, g_set.display_height))\n",
    "pygame.display.set_caption('Pathfinder')\n",
    "gameDisplay.fill(g_set.BLACK)\n",
    "clock = pygame.time.Clock()\n",
    "            \n",
    "if __name__ == '__main__':\n",
    "    menu()\n",
    "    pygame.quit()\n",
    "    quit()"
   ]
  },
  {
   "cell_type": "code",
   "execution_count": 1,
   "metadata": {},
   "outputs": [
    {
     "ename": "ModuleNotFoundError",
     "evalue": "No module named 'game_settings'",
     "output_type": "error",
     "traceback": [
      "\u001b[0;31m---------------------------------------------------------------------------\u001b[0m",
      "\u001b[0;31mModuleNotFoundError\u001b[0m                       Traceback (most recent call last)",
      "\u001b[0;32m<ipython-input-1-470fa987c2f5>\u001b[0m in \u001b[0;36m<module>\u001b[0;34m\u001b[0m\n\u001b[0;32m----> 1\u001b[0;31m \u001b[0;32mfrom\u001b[0m \u001b[0mgame_settings\u001b[0m \u001b[0;32mimport\u001b[0m \u001b[0mSettings\u001b[0m\u001b[0;34m\u001b[0m\u001b[0;34m\u001b[0m\u001b[0m\n\u001b[0m",
      "\u001b[0;31mModuleNotFoundError\u001b[0m: No module named 'game_settings'"
     ]
    }
   ],
   "source": [
    "from game_settings import Settings"
   ]
  },
  {
   "cell_type": "code",
   "execution_count": 2,
   "metadata": {},
   "outputs": [
    {
     "name": "stdout",
     "output_type": "stream",
     "text": [
      "3.6.10\n"
     ]
    }
   ],
   "source": []
  },
  {
   "cell_type": "code",
   "execution_count": 1,
   "metadata": {},
   "outputs": [
    {
     "ename": "NameError",
     "evalue": "name 'python_version' is not defined",
     "output_type": "error",
     "traceback": [
      "\u001b[0;31m---------------------------------------------------------------------------\u001b[0m",
      "\u001b[0;31mNameError\u001b[0m                                 Traceback (most recent call last)",
      "\u001b[0;32m<ipython-input-1-dabf6c077bc5>\u001b[0m in \u001b[0;36m<module>\u001b[0;34m\u001b[0m\n\u001b[0;32m----> 1\u001b[0;31m \u001b[0mprint\u001b[0m\u001b[0;34m(\u001b[0m\u001b[0mpython_version\u001b[0m\u001b[0;34m(\u001b[0m\u001b[0;34m)\u001b[0m\u001b[0;34m)\u001b[0m\u001b[0;34m\u001b[0m\u001b[0;34m\u001b[0m\u001b[0m\n\u001b[0m",
      "\u001b[0;31mNameError\u001b[0m: name 'python_version' is not defined"
     ]
    }
   ],
   "source": []
  },
  {
   "cell_type": "code",
   "execution_count": null,
   "metadata": {},
   "outputs": [],
   "source": []
  }
 ],
 "metadata": {
  "kernelspec": {
   "display_name": "Python 3",
   "language": "python",
   "name": "python3"
  },
  "language_info": {
   "codemirror_mode": {
    "name": "ipython",
    "version": 3
   },
   "file_extension": ".py",
   "mimetype": "text/x-python",
   "name": "python",
   "nbconvert_exporter": "python",
   "pygments_lexer": "ipython3",
   "version": "3.6.10"
  }
 },
 "nbformat": 4,
 "nbformat_minor": 4
}
