{
 "cells": [
  {
   "cell_type": "code",
   "execution_count": 2,
   "metadata": {},
   "outputs": [],
   "source": [
    "import pygame.font\n",
    "\n",
    "class Settings:\n",
    "    def __init__(self):\n",
    "    \n",
    "        self.running = True\n",
    "\n",
    "        # Colors\n",
    "        self.BLACK = (0,0,0)           # background\n",
    "        self.WHITE = (255,255,255)     # empty ('0')\n",
    "        self.DARK_GREY = (50,50,50)    # boarder ('b')\n",
    "        self.GREY = (150,150,150)      # walls ('w')\n",
    "        self.GREEN = (0,180,0)         # start ('s')\n",
    "        self.RED = (180,0,0)           # goal ('g')\n",
    "        self.BLUE = (0,0,200)          # path (int)\n",
    "        self.BRIGHT_RED = (255,0,0)\n",
    "        self.BRIGHT_GREEN = (0,255,0)\n",
    "        self.YELLOW = (255,235,170)\n",
    "        self.ORANGE = (230,170,40)\n",
    "\n",
    "        # Graph dimensions\n",
    "        self.node_width = 20\n",
    "        self.node_height = 20\n",
    "        self.node_margin = 5\n",
    "        self.grid_width = 21\n",
    "        self.grid_height = 21\n",
    "        self.start = (1, int((self.grid_width-1)/2))\n",
    "        self.goal = (self.grid_height-2, int((self.grid_width-1)/2))\n",
    "        \n",
    "        self.display_width = (self.node_width*self.grid_width) + (self.node_margin*(1+self.grid_width))\n",
    "        self.display_height = (self.node_height*self.grid_height) + (self.node_margin*(1+self.grid_height))\n",
    "\n",
    "        self.largeText = pygame.font.SysFont('comicsansms', 30)\n",
    "        self.smallText = pygame.font.SysFont('comicsansms', 15)\n",
    "\n"
   ]
  },
  {
   "cell_type": "code",
   "execution_count": null,
   "metadata": {},
   "outputs": [],
   "source": []
  }
 ],
 "metadata": {
  "kernelspec": {
   "display_name": "Python 3",
   "language": "python",
   "name": "python3"
  },
  "language_info": {
   "codemirror_mode": {
    "name": "ipython",
    "version": 3
   },
   "file_extension": ".py",
   "mimetype": "text/x-python",
   "name": "python",
   "nbconvert_exporter": "python",
   "pygments_lexer": "ipython3",
   "version": "3.6.10"
  }
 },
 "nbformat": 4,
 "nbformat_minor": 4
}
